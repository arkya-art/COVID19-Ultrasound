{
 "cells": [
  {
   "cell_type": "code",
   "execution_count": 1,
   "metadata": {},
   "outputs": [],
   "source": [
    "from lxml.html import parse\n",
    "from sys import stdin\n",
    "import pandas as pd\n",
    "import re\n",
    "import json\n",
    "import dicom2nifti\n",
    "import numpy as np\n",
    "import os\n",
    "import skimage\n",
    "import pydicom"
   ]
  },
  {
   "cell_type": "code",
   "execution_count": null,
   "metadata": {},
   "outputs": [],
   "source": []
  },
  {
   "cell_type": "code",
   "execution_count": 323,
   "metadata": {},
   "outputs": [],
   "source": [
    "case = \"covid-19-pneumonia-40\""
   ]
  },
  {
   "cell_type": "code",
   "execution_count": 324,
   "metadata": {},
   "outputs": [
    {
     "name": "stdout",
     "output_type": "stream",
     "text": [
      "--2020-03-30 19:15:59--  https://radiopaedia.org/cases/covid-19-pneumonia-40\n",
      "Resolving radiopaedia.org (radiopaedia.org)... 104.26.8.61, 104.26.9.61\n",
      "Connecting to radiopaedia.org (radiopaedia.org)|104.26.8.61|:443... connected.\n",
      "HTTP request sent, awaiting response... 200 OK\n",
      "Length: unspecified [text/html]\n",
      "Saving to: ‘case-covid-19-pneumonia-40.htm’\n",
      "\n",
      "case-covid-19-pneum     [  <=>               ]  44.95K   121KB/s    in 0.4s    \n",
      "\n",
      "2020-03-30 19:16:00 (121 KB/s) - ‘case-covid-19-pneumonia-40.htm’ saved [46024]\n",
      "\n"
     ]
    }
   ],
   "source": [
    "!wget -O case-{case}.htm  https://radiopaedia.org/cases/{case}"
   ]
  },
  {
   "cell_type": "code",
   "execution_count": 325,
   "metadata": {},
   "outputs": [
    {
     "name": "stdout",
     "output_type": "stream",
     "text": [
      "</div></div></div><div class=\"well case-section case-study\" data-ref=\"study-86625\" data-study-id=\"86625\" data-study-stacks-url=\"/studies/86625/stacks?lang=us\"><div class=\"main-study-desc\">\r\n",
      "<div class=\"sub-section study-findings body\"><p>There are pronounced bilateral confluent ground-glass opacities, mostly in the periphery of the lungs.</p><p>No pleural effusion or adenopathy.</p><p>The 360° VRT shows extensive bilateral lung damage.</p></div></div><div class=\"well case-section case-study\" data-ref=\"study-86629\" data-study-id=\"86629\" data-study-stacks-url=\"/studies/86629/stacks?lang=us\"><div class=\"main-study-desc\">\r\n"
     ]
    }
   ],
   "source": [
    "!grep \"data-study-id\" case-{case}.htm"
   ]
  },
  {
   "cell_type": "code",
   "execution_count": null,
   "metadata": {},
   "outputs": [],
   "source": []
  },
  {
   "cell_type": "code",
   "execution_count": 326,
   "metadata": {},
   "outputs": [],
   "source": [
    "stackid = \"86625\""
   ]
  },
  {
   "cell_type": "code",
   "execution_count": null,
   "metadata": {},
   "outputs": [],
   "source": []
  },
  {
   "cell_type": "code",
   "execution_count": null,
   "metadata": {},
   "outputs": [],
   "source": []
  },
  {
   "cell_type": "code",
   "execution_count": 327,
   "metadata": {},
   "outputs": [
    {
     "name": "stdout",
     "output_type": "stream",
     "text": [
      "--2020-03-30 19:16:39--  https://radiopaedia.org/studies/86625/stacks\n",
      "Resolving radiopaedia.org (radiopaedia.org)... 104.26.9.61, 104.26.8.61\n",
      "Connecting to radiopaedia.org (radiopaedia.org)|104.26.9.61|:443... connected.\n",
      "HTTP request sent, awaiting response... 200 OK\n",
      "Length: unspecified [application/json]\n",
      "Saving to: ‘stacks-86625.json’\n",
      "\n",
      "stacks-86625.json       [ <=>                ] 206.52K  --.-KB/s    in 0.08s   \n",
      "\n",
      "2020-03-30 19:16:40 (2.40 MB/s) - ‘stacks-86625.json’ saved [211474]\n",
      "\n"
     ]
    }
   ],
   "source": [
    "!wget -O stacks-{stackid}.json https://radiopaedia.org/studies/{stackid}/stacks"
   ]
  },
  {
   "cell_type": "code",
   "execution_count": 328,
   "metadata": {},
   "outputs": [],
   "source": [
    "y = json.load(open(\"stacks-{}.json\".format(stackid)))"
   ]
  },
  {
   "cell_type": "code",
   "execution_count": 329,
   "metadata": {},
   "outputs": [
    {
     "data": {
      "text/plain": [
       "5"
      ]
     },
     "execution_count": 329,
     "metadata": {},
     "output_type": "execute_result"
    }
   ],
   "source": [
    "len(y)"
   ]
  },
  {
   "cell_type": "code",
   "execution_count": 330,
   "metadata": {},
   "outputs": [
    {
     "data": {
      "text/plain": [
       "['CT', 'CT', 'CT', 'CT', 'CT']"
      ]
     },
     "execution_count": 330,
     "metadata": {},
     "output_type": "execute_result"
    }
   ],
   "source": [
    "[y[i][\"modality\"] for i in range(len(y))]"
   ]
  },
  {
   "cell_type": "code",
   "execution_count": 331,
   "metadata": {},
   "outputs": [],
   "source": [
    "index = 0"
   ]
  },
  {
   "cell_type": "code",
   "execution_count": 332,
   "metadata": {},
   "outputs": [],
   "source": [
    "urls = []\n",
    "positions = []\n",
    "for k in y[index][\"images\"]:\n",
    "    urls.append(k[\"fullscreen_filename\"]) \n",
    "    positions.append(k[\"position\"])"
   ]
  },
  {
   "cell_type": "code",
   "execution_count": 333,
   "metadata": {},
   "outputs": [],
   "source": [
    "urls = np.asarray(urls)[np.argsort(positions)]"
   ]
  },
  {
   "cell_type": "code",
   "execution_count": 334,
   "metadata": {},
   "outputs": [
    {
     "data": {
      "text/plain": [
       "'radiopaedia_org_covid-19-pneumonia-40_86625_0'"
      ]
     },
     "execution_count": 334,
     "metadata": {},
     "output_type": "execute_result"
    }
   ],
   "source": [
    "folder = \"radiopaedia_org_\" + case + \"_\" + str(stackid) + \"_\" + str(index)\n",
    "folder"
   ]
  },
  {
   "cell_type": "code",
   "execution_count": null,
   "metadata": {},
   "outputs": [],
   "source": []
  },
  {
   "cell_type": "code",
   "execution_count": 335,
   "metadata": {},
   "outputs": [],
   "source": [
    "!mkdir -p {folder}\n",
    "for i, url in enumerate(urls):\n",
    "    !wget -q -O {folder + \"/\" + str(i).zfill(4) + \"_\" + folder}.jpeg {url}"
   ]
  },
  {
   "cell_type": "code",
   "execution_count": null,
   "metadata": {},
   "outputs": [],
   "source": []
  },
  {
   "cell_type": "code",
   "execution_count": 341,
   "metadata": {},
   "outputs": [],
   "source": [
    "import pydicom\n",
    "from pydicom.dataset import Dataset, FileDataset\n",
    "from pydicom.uid import ExplicitVRLittleEndian\n",
    "import pydicom._storage_sopclass_uids\n",
    "\n",
    "\n",
    "def convert(img, filename, DCM_SliceLocation, length):\n",
    "    image2d = img.astype(np.uint16)\n",
    "\n",
    "\n",
    "    meta = pydicom.Dataset()\n",
    "    meta.MediaStorageSOPClassUID = pydicom._storage_sopclass_uids.CTImageStorage\n",
    "    meta.MediaStorageSOPInstanceUID = pydicom.uid.generate_uid()\n",
    "    meta.TransferSyntaxUID = pydicom.uid.ExplicitVRLittleEndian  \n",
    "    \n",
    "    ds = pydicom.dataset.FileDataset(\"test2.dcm\", {},\n",
    "                                 file_meta=meta, preamble=b\"\\0\" * 128)\n",
    "\n",
    "    ds.is_little_endian = True\n",
    "    ds.is_implicit_VR = False\n",
    "\n",
    "    ds.SOPClassUID = pydicom._storage_sopclass_uids.MRImageStorage\n",
    "    ds.PatientName = \"Test^Firstname\"\n",
    "    ds.PatientID = \"123456\"\n",
    "\n",
    "    ds.Modality = \"CT\"\n",
    "    ds.SeriesInstanceUID = pydicom.uid.generate_uid()\n",
    "    ds.StudyInstanceUID = pydicom.uid.generate_uid()\n",
    "    ds.FrameOfReferenceUID = pydicom.uid.generate_uid()\n",
    "\n",
    "    ds.BitsStored = 16\n",
    "    ds.BitsAllocated = 16\n",
    "    ds.SamplesPerPixel = 1\n",
    "    ds.HighBit = 15\n",
    "    ds.SliceLocation = DCM_SliceLocation\n",
    "    ds.SpacingBetweenSlices = 1\n",
    "    #ds.SliceThickness = 4\n",
    "    ds.ScanLength = length\n",
    "\n",
    "    ds.ImagesInAcquisition = \"1\"\n",
    "\n",
    "    ds.Rows = image2d.shape[0]\n",
    "    ds.Columns = image2d.shape[1]\n",
    "    ds.InstanceNumber = 1\n",
    "\n",
    "    ds.ImagePositionPatient = r\"-159\\-174\"+ \"\\\\-\" + str(DCM_SliceLocation*4)  #default of 6, sometimes 1\n",
    "    ds.ImageOrientationPatient = r\"1\\0\\0\\0\\-1\\0\"\n",
    "    ds.ImageType = r\"ORIGINAL\\PRIMARY\\AXIAL\"\n",
    "\n",
    "    ds.RescaleIntercept = \"0\"\n",
    "    ds.RescaleSlope = \"1\"\n",
    "    ds.PixelSpacing = r\"0.683594\\0.683594\"# r\"1\\1\"\n",
    "    ds.PhotometricInterpretation = \"MONOCHROME2\"\n",
    "    ds.PixelRepresentation = 1\n",
    "\n",
    "    pydicom.dataset.validate_file_meta(ds.file_meta, enforce_standard=True)\n",
    "\n",
    "    ds.PixelData = image2d.tobytes()\n",
    "\n",
    "    ds.save_as(filename)"
   ]
  },
  {
   "cell_type": "code",
   "execution_count": null,
   "metadata": {},
   "outputs": [],
   "source": []
  },
  {
   "cell_type": "code",
   "execution_count": null,
   "metadata": {},
   "outputs": [],
   "source": []
  },
  {
   "cell_type": "code",
   "execution_count": null,
   "metadata": {},
   "outputs": [],
   "source": []
  },
  {
   "cell_type": "code",
   "execution_count": null,
   "metadata": {},
   "outputs": [],
   "source": []
  },
  {
   "cell_type": "code",
   "execution_count": 344,
   "metadata": {},
   "outputs": [],
   "source": [
    "!mkdir -p {folder}-dcm\n",
    "for f in os.listdir(folder):\n",
    "    position = int(f.split(\"_\")[0])\n",
    "    img = skimage.io.imread(folder+\"/\"+f)\n",
    "    if len(img.shape) > 2:\n",
    "        img = img[:,:,0]\n",
    "    convert(img, folder+\"-dcm/\"+f+\".dcm\", position, len(os.listdir(folder)))\n",
    "    "
   ]
  },
  {
   "cell_type": "code",
   "execution_count": null,
   "metadata": {},
   "outputs": [],
   "source": []
  },
  {
   "cell_type": "code",
   "execution_count": 345,
   "metadata": {},
   "outputs": [
    {
     "data": {
      "text/plain": [
       "{'NII_FILE': 'radiopaedia_org_covid-19-pneumonia-40_86625_0-dcm.nii.gz',\n",
       " 'NII': <nibabel.nifti1.Nifti1Image at 0x112693790>,\n",
       " 'MAX_SLICE_INCREMENT': 4.0}"
      ]
     },
     "execution_count": 345,
     "metadata": {},
     "output_type": "execute_result"
    }
   ],
   "source": [
    "dicom2nifti.convert_dicom.dicom_series_to_nifti(folder+\"-dcm\", folder+\"-dcm\" +\".nii.gz\", reorient_nifti=True)\n"
   ]
  },
  {
   "cell_type": "code",
   "execution_count": null,
   "metadata": {},
   "outputs": [],
   "source": []
  },
  {
   "cell_type": "code",
   "execution_count": null,
   "metadata": {},
   "outputs": [],
   "source": []
  },
  {
   "cell_type": "code",
   "execution_count": null,
   "metadata": {},
   "outputs": [],
   "source": []
  },
  {
   "cell_type": "code",
   "execution_count": null,
   "metadata": {},
   "outputs": [],
   "source": []
  },
  {
   "cell_type": "code",
   "execution_count": null,
   "metadata": {},
   "outputs": [],
   "source": []
  },
  {
   "cell_type": "code",
   "execution_count": null,
   "metadata": {},
   "outputs": [],
   "source": []
  },
  {
   "cell_type": "code",
   "execution_count": null,
   "metadata": {},
   "outputs": [],
   "source": []
  },
  {
   "cell_type": "code",
   "execution_count": null,
   "metadata": {},
   "outputs": [],
   "source": []
  },
  {
   "cell_type": "code",
   "execution_count": null,
   "metadata": {},
   "outputs": [],
   "source": []
  },
  {
   "cell_type": "code",
   "execution_count": null,
   "metadata": {},
   "outputs": [],
   "source": []
  }
 ],
 "metadata": {
  "kernelspec": {
   "display_name": "Python 3",
   "language": "python",
   "name": "python3"
  },
  "language_info": {
   "codemirror_mode": {
    "name": "ipython",
    "version": 3
   },
   "file_extension": ".py",
   "mimetype": "text/x-python",
   "name": "python",
   "nbconvert_exporter": "python",
   "pygments_lexer": "ipython3",
   "version": "3.7.7"
  }
 },
 "nbformat": 4,
 "nbformat_minor": 2
}
